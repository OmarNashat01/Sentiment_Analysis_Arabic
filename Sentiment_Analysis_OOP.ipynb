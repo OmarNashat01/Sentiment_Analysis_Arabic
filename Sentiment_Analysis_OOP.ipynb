{
  "cells": [
    {
      "cell_type": "code",
      "execution_count": 22,
      "id": "70627c3b",
      "metadata": {
        "colab": {
          "base_uri": "https://localhost:8080/"
        },
        "id": "70627c3b",
        "outputId": "60b7ccaa-cb27-46bf-b36d-a8a206a3c2c1"
      },
      "outputs": [
        {
          "output_type": "stream",
          "name": "stdout",
          "text": [
            "Looking in indexes: https://pypi.org/simple, https://us-python.pkg.dev/colab-wheels/public/simple/\n",
            "Requirement already satisfied: Arabic-Stopwords in /usr/local/lib/python3.7/dist-packages (0.3)\n",
            "Requirement already satisfied: pyarabic>=0.6.2 in /usr/local/lib/python3.7/dist-packages (from Arabic-Stopwords) (0.6.15)\n",
            "Requirement already satisfied: six>=1.14.0 in /usr/local/lib/python3.7/dist-packages (from pyarabic>=0.6.2->Arabic-Stopwords) (1.15.0)\n"
          ]
        },
        {
          "output_type": "stream",
          "name": "stderr",
          "text": [
            "[nltk_data] Downloading package stopwords to /root/nltk_data...\n",
            "[nltk_data]   Package stopwords is already up-to-date!\n",
            "[nltk_data] Downloading package wordnet to /root/nltk_data...\n",
            "[nltk_data]   Package wordnet is already up-to-date!\n",
            "[nltk_data] Downloading package omw-1.4 to /root/nltk_data...\n",
            "[nltk_data]   Package omw-1.4 is already up-to-date!\n",
            "[nltk_data] Downloading package punkt to /root/nltk_data...\n",
            "[nltk_data]   Package punkt is already up-to-date!\n"
          ]
        },
        {
          "output_type": "stream",
          "name": "stdout",
          "text": [
            "Looking in indexes: https://pypi.org/simple, https://us-python.pkg.dev/colab-wheels/public/simple/\n",
            "Requirement already satisfied: unidecode in /usr/local/lib/python3.7/dist-packages (1.3.6)\n",
            "Looking in indexes: https://pypi.org/simple, https://us-python.pkg.dev/colab-wheels/public/simple/\n",
            "Collecting emoji\n",
            "  Downloading emoji-2.1.0.tar.gz (216 kB)\n",
            "\u001b[K     |████████████████████████████████| 216 kB 4.8 MB/s \n",
            "\u001b[?25hBuilding wheels for collected packages: emoji\n",
            "  Building wheel for emoji (setup.py) ... \u001b[?25l\u001b[?25hdone\n",
            "  Created wheel for emoji: filename=emoji-2.1.0-py3-none-any.whl size=212392 sha256=95798a6ba9d2680899fb88c9e8df3a853e6bca84e5f9dcf0db7a6573d8a4e245\n",
            "  Stored in directory: /root/.cache/pip/wheels/77/75/99/51c2a119f4cfd3af7b49cc57e4f737bed7e40b348a85d82804\n",
            "Successfully built emoji\n",
            "Installing collected packages: emoji\n",
            "Successfully installed emoji-2.1.0\n"
          ]
        }
      ],
      "source": [
        "from __future__ import unicode_literals\n",
        "# Import the required libraires\n",
        "import numpy as np\n",
        "import pandas as pd\n",
        "\n",
        "# visualization libraries\n",
        "import matplotlib.pyplot as plt\n",
        "\n",
        "%matplotlib inline\n",
        "\n",
        "import re\n",
        "import unicodedata\n",
        "\n",
        "# Pre-processing library\n",
        "from sklearn.utils import shuffle\n",
        "from sklearn.model_selection import train_test_split\n",
        "import nltk\n",
        "import gensim\n",
        "!pip install Arabic-Stopwords\n",
        "import arabicstopwords.arabicstopwords as stp\n",
        "from nltk.stem import WordNetLemmatizer\n",
        "from nltk.tokenize import word_tokenize\n",
        "nltk.download('stopwords')\n",
        "nltk.download('wordnet')\n",
        "nltk.download('omw-1.4')\n",
        "nltk.download('punkt')\n",
        "import pyarabic.araby as araby\n",
        "from nltk.stem.isri import ISRIStemmer\n",
        "\n",
        "import unicodedata\n",
        "!pip install unidecode\n",
        "from unidecode import unidecode\n",
        "!pip install emoji\n",
        "import emoji\n",
        "\n",
        "# Vectorizers\n",
        "from sklearn.feature_extraction.text import TfidfVectorizer\n",
        "\n",
        "from gensim.models import Word2Vec\n",
        "from gensim.models import FastText\n",
        "\n",
        "# Mectrics\n",
        "from sklearn.metrics import accuracy_score, f1_score, precision_score, recall_score, classification_report, confusion_matrix, roc_auc_score, roc_curve, auc\n",
        "\n",
        "\n",
        "# Models \n",
        "from sklearn import svm\n",
        "from sklearn.naive_bayes import GaussianNB\n",
        "from sklearn.ensemble import RandomForestClassifier\n",
        "from sklearn.linear_model import LogisticRegression\n",
        "from sklearn.pipeline import Pipeline\n",
        "from xgboost import XGBClassifier\n",
        "\n",
        "\n",
        "test_neg = pd.read_csv('./data/test_Arabic_tweets_negative.tsv',header=None, sep='\\t')\n",
        "test_pos = pd.read_csv('./data/test_Arabic_tweets_positive.tsv',header=None, sep='\\t')\n",
        "train_neg = pd.read_csv('./data/train_Arabic_tweets_negative.tsv',header=None, sep='\\t')\n",
        "train_pos = pd.read_csv('./data/train_Arabic_tweets_positive.tsv',header=None, sep='\\t')\n"
      ]
    },
    {
      "cell_type": "code",
      "source": [
        "class ml_model():\n",
        "\n",
        "    def __init__(self,  model='xgboost',vectorizer='tfidf'):\n",
        "        \n",
        "        self.vectorizer_type = vectorizer    \n",
        "        if vectorizer == 'tfidf':\n",
        "            self.vectorizer = TfidfVectorizer()\n",
        "        elif vectorizer == 'word2vec':\n",
        "            self.vectorizer = gensim.models.Word2Vec()\n",
        "        elif vectorizer == 'fasttext':\n",
        "          self.vectorizer = FastText()\n",
        "            \n",
        "        self.model_type = model\n",
        "        if model == 'xgboost':\n",
        "            self.model = XGBClassifier(random_state=42, seed=2, colsample_bytree=0.9, subsample=0.7,learning_rate=0.08)\n",
        "        elif model == 'svm':\n",
        "            self.model = svm.SVC(class_weight='balanced')\n",
        "        elif model == 'rfc':\n",
        "            self.model = RandomForestClassifier(class_weight='balanced')\n",
        "        elif model == 'nb':\n",
        "            self.model = GaussianNB()\n",
        "        elif model == 'lr':\n",
        "            self.model = LogisticRegression(max_iter=300)\n",
        "            \n",
        "#         self.pipeline = Pipeline([ ('vectorizer', self.vectorizer), ('model',self.model)]) \n",
        "\n",
        "        \n",
        "        self.stopwords = set(stp.stopwords_list())\n",
        "        self.emojis_ar = {}\n",
        "        with open('emojis.csv','r',encoding='utf-8') as f:\n",
        "            lines = f.readlines()\n",
        "            \n",
        "            for line in lines:\n",
        "                line = line.strip('\\n').split(';')\n",
        "                self.emojis_ar.update({line[0].strip():line[1].strip()})\n",
        "              \n",
        "          \n",
        "        \n",
        "        \n",
        "    def load_data(self, df):\n",
        "        self.df = df.copy()\n",
        "    \n",
        "    def clean_review(self, text):\n",
        "            \n",
        "        text = re.sub(\"[إأٱآا]\", \"ا\", text)\n",
        "        text = re.sub(\"ى\", \"ي\", text)\n",
        "        text = re.sub(\"ؤ\", \"ء\", text)\n",
        "        text = re.sub(\"ئ\", \"ء\", text)\n",
        "        text = re.sub(\"ة\", \"ه\", text)\n",
        "        noise = re.compile(\"\"\" ّ    | # Tashdid\n",
        "                                َ    | # Fatha\n",
        "                                ً    | # Tanwin Fath\n",
        "                                ُ    | # Damma\n",
        "                                ٌ    | # Tanwin Damm\n",
        "                                ِ    | # Kasra\n",
        "                                ٍ    | # Tanwin Kasr\n",
        "                                ْ    | # Sukun\n",
        "                                ـ     # Tatwil/Kashida\n",
        "                            \"\"\", re.VERBOSE)\n",
        "        text = re.sub(noise, '', text)\n",
        "        text = re.sub(r'(.)\\1+', r\"\\1\\1\", text) # Remove longation\n",
        "        text = word_tokenize(text)\n",
        "        # text = \" \".join(ISRIStemmer().stem(i) for i in text if i not in self.stopwords)\n",
        "        text = \" \".join(WordNetLemmatizer().lemmatize(i) for i in text if i not in self.stopwords)\n",
        "    \n",
        "        return text\n",
        "\n",
        "        \n",
        "\n",
        "    def remove_emoji(self, text):\n",
        "        emoji_pattern = re.compile(\"[\"\n",
        "                                   u\"\\U0001F600-\\U0001F64F\"  # emoticons\n",
        "                                   u\"\\U0001F300-\\U0001F5FF\"  # symbols & pictographs\n",
        "                                   u\"\\U0001F680-\\U0001F6FF\"  # transport & map symbols\n",
        "                                   u\"\\U0001F1E0-\\U0001F1FF\"  # flags (iOS)\n",
        "                                   u\"\\U00002702-\\U000027B0\"\n",
        "                                   u\"\\U000024C2-\\U0001F251\"\n",
        "                                   \"]+\", flags=re.UNICODE)\n",
        "        text = emoji_pattern.sub(r'', text)\n",
        "        return text\n",
        "\n",
        "\n",
        "\n",
        "    def emoji_native_translation(self, text):\n",
        "      if not text:\n",
        "        return text\n",
        "      loves = [\"<3\", \"♥\",'❤']\n",
        "      smilefaces = []\n",
        "      sadfaces = []\n",
        "      neutralfaces = []\n",
        "\n",
        "      eyes = [\"8\",\":\",\"=\",\";\"]\n",
        "      nose = [\"'\",\"`\",\"-\",r\"\\\\\"]\n",
        "      for e in eyes:\n",
        "          for n in nose:\n",
        "              for s in [\"\\)\", \"d\", \"]\", \"}\",\"p\"]:\n",
        "                  smilefaces.append(e+n+s)\n",
        "                  smilefaces.append(e+s)\n",
        "              for s in [\"\\(\", \"\\[\", \"{\"]:\n",
        "                  sadfaces.append(e+n+s)\n",
        "                  sadfaces.append(e+s)\n",
        "              for s in [\"\\|\", \"\\/\", r\"\\\\\"]:\n",
        "                  neutralfaces.append(e+n+s)\n",
        "                  neutralfaces.append(e+s)\n",
        "              #reversed\n",
        "              for s in [\"\\(\", \"\\[\", \"{\"]:\n",
        "                  smilefaces.append(s+n+e)\n",
        "                  smilefaces.append(s+e)\n",
        "              for s in [\"\\)\", \"\\]\", \"}\"]:\n",
        "                  sadfaces.append(s+n+e)\n",
        "                  sadfaces.append(s+e)\n",
        "              for s in [\"\\|\", \"\\/\", r\"\\\\\"]:\n",
        "                  neutralfaces.append(s+n+e)\n",
        "                  neutralfaces.append(s+e)\n",
        "\n",
        "      smilefaces = list(set(smilefaces))\n",
        "      sadfaces = list(set(sadfaces))\n",
        "      neutralfaces = list(set(neutralfaces))\n",
        "      t = []\n",
        "\n",
        "      for w in text.split():\n",
        "          if w in loves:\n",
        "              t.append(\"حب\")\n",
        "          elif w in smilefaces:\n",
        "              t.append(\"مضحك\")\n",
        "          elif w in neutralfaces:\n",
        "              t.append(\"عادي\")\n",
        "          elif w in sadfaces:\n",
        "              t.append(\"محزن\")\n",
        "          else:\n",
        "              t.append(w)\n",
        "      newText = \" \".join(t)\n",
        "      return newText\n",
        "\n",
        "    def is_emoji(self, word):\n",
        "        if word in self.emojis_ar:\n",
        "            return True\n",
        "        else:\n",
        "            return False\n",
        "    \n",
        "    def add_space(self, text):\n",
        "        return ''.join(' ' + char if self.is_emoji(char) else char for char in text).strip()\n",
        "\n",
        "    !pip install aiogoogletrans\n",
        "    !pip install asyncio\n",
        "    from aiogoogletrans import Translator\n",
        "    translator = Translator()\n",
        "    import asyncio\n",
        "    loop = asyncio.get_event_loop()\n",
        "\n",
        "    def translate_emojis(self, words):\n",
        "        word_list = list()\n",
        "        words_to_translate = list()\n",
        "        for word in words :\n",
        "            t = self.emojis_ar.get(word.get('emoji'),None)\n",
        "            if t is None:\n",
        "                word.update({'translation':'عادي','translated':True})\n",
        "                #words_to_translate.append('normal')\n",
        "            else:\n",
        "                word.update({'translated':False,'translation':t})\n",
        "                words_to_translate.append(t.replace(':','').replace('_',' '))\n",
        "            word_list.append(word)\n",
        "        return word_list\n",
        "\n",
        "    def emoji_unicode_translation(self, text):\n",
        "        if not text:\n",
        "          return text\n",
        "        text = self.add_space(text)\n",
        "        words = text.split()\n",
        "        text_list = list()\n",
        "        emojis_list = list()\n",
        "        c = 0\n",
        "        for word in words:\n",
        "            if self.is_emoji(word):\n",
        "                emojis_list.append({'emoji':word,'emplacement':c})\n",
        "            else:\n",
        "                text_list.append(word)\n",
        "            c+=1\n",
        "        emojis_translated = self.translate_emojis(emojis_list)\n",
        "        for em in emojis_translated:\n",
        "            text_list.insert(em.get('emplacement'),em.get('translation'))\n",
        "        text = \" \".join(text_list)\n",
        "        return text\n",
        "        \n",
        "    def clean_emoji(self, text):\n",
        "        text = self.emoji_native_translation(text)\n",
        "        text = self.emoji_unicode_translation(text)\n",
        "        return text\n",
        "\n",
        "\n",
        "\n",
        "    def preprocess(self, x):\n",
        "        x = [self.clean_emoji(rev) for rev in x]\n",
        "        print(x[0:10])\n",
        "        x = [self.remove_emoji(rev) for rev in x]\n",
        "        self.data = [self.clean_review(rev) for rev in x]\n",
        "        \n",
        "        print(self.data[0:10])\n",
        "        \n",
        "        return self.data\n",
        "    \n",
        "    def vectorize_data(self, x):\n",
        "        if self.vectorizer_type == 'tfidf':\n",
        "            return self.vectorizer.transform(x)\n",
        "        elif self.vectorizer_type == 'fasttext' or self.vectorizer_type == 'word2vec':\n",
        "            ft_arr = np.zeros((len(x), 500))\n",
        "            for i in range(len(x)):\n",
        "                ft_arr[i,:] = self.wordvec(x[i], 500)\n",
        "\n",
        "            return ft_arr\n",
        "\n",
        "    def wordvec(self, x, size):\n",
        "        vec = np.zeros(size).reshape((1, size))\n",
        "        count = 0.\n",
        "        for word in x:\n",
        "            try:\n",
        "                vec += self.vectorizer[word].reshape((1, size))\n",
        "                count += 1.\n",
        "            except KeyError: # handling the case where the token is not in vocabulary\n",
        "                            \n",
        "                continue\n",
        "        if count != 0:\n",
        "            vec /= count\n",
        "        return vec\n",
        "        \n",
        "        \n",
        "    def train(self, x, y):\n",
        "        x = self.preprocess(x)\n",
        "        \n",
        "        if self.vectorizer_type == 'tfidf':\n",
        "            self.vectorizer.fit_transform(x)\n",
        "        elif self.vectorizer_type == 'fasttext':\n",
        "            self.vectorizer = FastText(sentences=x, size= 500)\n",
        "        elif self.vectorizer == 'word2vec':\n",
        "            self.vectorizer = Word2Vec(sentences = x, size= 500)\n",
        "\n",
        "\n",
        "\n",
        "        x = self.vectorize_data(x)\n",
        "        \n",
        "        if self.model_type == 'nb':\n",
        "            self.model.fit(x.toarray(),y)\n",
        "        else:\n",
        "            self.model.fit(x,y)\n",
        "        \n",
        "        \n",
        "    def score(self, x_test, y_test, show=True):\n",
        "        x_test = self.preprocess(x_test)\n",
        "        \n",
        "        x_test = self.vectorize_data(x_test)\n",
        "        \n",
        "        if self.model_type == 'nb':\n",
        "            y_pred = self.model.predict(x_test.toarray())\n",
        "        else:\n",
        "            y_pred = self.model.predict(x_test)\n",
        "        \n",
        "        self.f1 = f1_score(y_test, y_pred, average=\"macro\")*100\n",
        "        self.precision = precision_score(y_test, y_pred, average=\"macro\")*(100)\n",
        "        self.recall = recall_score(y_test, y_pred, average=\"macro\")*100\n",
        "        self.accuracy = accuracy_score(y_test, y_pred)*100\n",
        "        self.auc = roc_auc_score(y_test,y_pred)\n",
        "\n",
        "        if not show:\n",
        "          return y_pred\n",
        "\n",
        "        print(f'Confusion matrix: \\n{confusion_matrix(y_test, y_pred)}\\n')\n",
        "        print(f'The F1 score is: {self.f1}')\n",
        "        print(f'The precision score is: {self.precision}')\n",
        "        print(f'The recall score is: {self.recall}') \n",
        "        print(f'The accuracy score is: {self.accuracy}\\n\\n\\n')\n",
        "        \n",
        "        print(f'AUC score is: {self.auc}')\n",
        "        \n",
        "        return y_pred\n",
        "        \n",
        "    def predict(self, x):\n",
        "        x = self.clean_review(x)\n",
        "        \n",
        "        x = self.vectorize_data([x])\n",
        "        \n",
        "        return(self.model.predict(x))\n",
        "    \n",
        "    def get_params(self):\n",
        "        return self.pipeline.get_params()\n",
        "    \n",
        "    def draw_roc(self, x, y):\n",
        "        \n",
        "        y_pred = self.score(x,y)\n",
        "        \n",
        "        clf_fpr, clf_tpr, threshold = roc_curve(y, y_pred)\n",
        "        auc_clf = auc(clf_fpr, clf_tpr)\n",
        "        \n",
        "        plt.figure(figsize=(5, 5), dpi=100)\n",
        "        plt.plot(clf_fpr, clf_tpr, linestyle='-', label='clf (auc = %0.3f)' % auc_clf)\n",
        "\n",
        "        plt.xlabel('False Positive Rate -->')\n",
        "        plt.ylabel('True Positive Rate -->')\n",
        "\n",
        "        plt.legend()\n",
        "\n",
        "        plt.show()\n",
        "\n",
        "    def draw_roc_mult(x, y, models):\n",
        "        plt.figure(figsize=(5, 5), dpi=100)\n",
        "        for model in models:\n",
        "           y_pred = model[0].score(x,y,show=False)\n",
        "           clf_fpr, clf_tpr, threshold = roc_curve(y, y_pred)\n",
        "           auc_clf = auc(clf_fpr, clf_tpr)\n",
        "           \n",
        "           \n",
        "           plt.plot(clf_fpr, clf_tpr, linestyle='-', label=f'{model[1]} (auc = %0.3f, f1 = %0.3f)' % (auc_clf,model[0].f1))\n",
        "        \n",
        "        plt.xlabel('False Positive Rate -->')\n",
        "        plt.ylabel('True Positive Rate -->')\n",
        "\n",
        "        plt.legend()\n",
        "\n",
        "        plt.show()\n"
      ],
      "metadata": {
        "id": "n4Q3mVkmWnaO",
        "colab": {
          "base_uri": "https://localhost:8080/"
        },
        "outputId": "6339f273-b765-4acf-df30-e1eb8ffb3f63"
      },
      "id": "n4Q3mVkmWnaO",
      "execution_count": 155,
      "outputs": [
        {
          "output_type": "stream",
          "name": "stdout",
          "text": [
            "Looking in indexes: https://pypi.org/simple, https://us-python.pkg.dev/colab-wheels/public/simple/\n",
            "Requirement already satisfied: aiogoogletrans in /usr/local/lib/python3.7/dist-packages (3.3.3)\n",
            "Requirement already satisfied: httpx[http2]==0.23.0 in /usr/local/lib/python3.7/dist-packages (from aiogoogletrans) (0.23.0)\n",
            "Requirement already satisfied: rfc3986[idna2008]<2,>=1.3 in /usr/local/lib/python3.7/dist-packages (from httpx[http2]==0.23.0->aiogoogletrans) (1.5.0)\n",
            "Requirement already satisfied: certifi in /usr/local/lib/python3.7/dist-packages (from httpx[http2]==0.23.0->aiogoogletrans) (2022.6.15)\n",
            "Requirement already satisfied: sniffio in /usr/local/lib/python3.7/dist-packages (from httpx[http2]==0.23.0->aiogoogletrans) (1.3.0)\n",
            "Requirement already satisfied: httpcore<0.16.0,>=0.15.0 in /usr/local/lib/python3.7/dist-packages (from httpx[http2]==0.23.0->aiogoogletrans) (0.15.0)\n",
            "Requirement already satisfied: h2<5,>=3 in /usr/local/lib/python3.7/dist-packages (from httpx[http2]==0.23.0->aiogoogletrans) (4.1.0)\n",
            "Requirement already satisfied: hpack<5,>=4.0 in /usr/local/lib/python3.7/dist-packages (from h2<5,>=3->httpx[http2]==0.23.0->aiogoogletrans) (4.0.0)\n",
            "Requirement already satisfied: hyperframe<7,>=6.0 in /usr/local/lib/python3.7/dist-packages (from h2<5,>=3->httpx[http2]==0.23.0->aiogoogletrans) (6.0.1)\n",
            "Requirement already satisfied: h11<0.13,>=0.11 in /usr/local/lib/python3.7/dist-packages (from httpcore<0.16.0,>=0.15.0->httpx[http2]==0.23.0->aiogoogletrans) (0.12.0)\n",
            "Requirement already satisfied: anyio==3.* in /usr/local/lib/python3.7/dist-packages (from httpcore<0.16.0,>=0.15.0->httpx[http2]==0.23.0->aiogoogletrans) (3.6.1)\n",
            "Requirement already satisfied: idna>=2.8 in /usr/local/lib/python3.7/dist-packages (from anyio==3.*->httpcore<0.16.0,>=0.15.0->httpx[http2]==0.23.0->aiogoogletrans) (2.10)\n",
            "Requirement already satisfied: typing-extensions in /usr/local/lib/python3.7/dist-packages (from anyio==3.*->httpcore<0.16.0,>=0.15.0->httpx[http2]==0.23.0->aiogoogletrans) (4.1.1)\n",
            "Looking in indexes: https://pypi.org/simple, https://us-python.pkg.dev/colab-wheels/public/simple/\n",
            "Requirement already satisfied: asyncio in /usr/local/lib/python3.7/dist-packages (3.4.3)\n"
          ]
        }
      ]
    },
    {
      "cell_type": "code",
      "execution_count": 156,
      "id": "af0e83f6",
      "metadata": {
        "colab": {
          "base_uri": "https://localhost:8080/",
          "height": 206
        },
        "id": "af0e83f6",
        "outputId": "ce0b4290-c4c9-4b17-aa72-f8ae3f0c7e0f"
      },
      "outputs": [
        {
          "output_type": "execute_result",
          "data": {
            "text/plain": [
              "     0                                                  1\n",
              "0  neg  اعترف ان بتس كانو شوي شوي يجيبو راسي لكن اليوم...\n",
              "1  neg  توقعت اذا جات داريا بشوفهم كاملين بس لي للحين ...\n",
              "2  neg  #الاهلي_الهلال اكتب توقعك لنتيجة لقاء الهلال و...\n",
              "3  neg  نعمة المضادات الحيوية . تضع قطرة💧مضاد بنسلين ع...\n",
              "4  neg                             الدودو جايه تكمل علي 💔"
            ],
            "text/html": [
              "\n",
              "  <div id=\"df-a0039bfe-7d51-4112-bffa-46e28428f723\">\n",
              "    <div class=\"colab-df-container\">\n",
              "      <div>\n",
              "<style scoped>\n",
              "    .dataframe tbody tr th:only-of-type {\n",
              "        vertical-align: middle;\n",
              "    }\n",
              "\n",
              "    .dataframe tbody tr th {\n",
              "        vertical-align: top;\n",
              "    }\n",
              "\n",
              "    .dataframe thead th {\n",
              "        text-align: right;\n",
              "    }\n",
              "</style>\n",
              "<table border=\"1\" class=\"dataframe\">\n",
              "  <thead>\n",
              "    <tr style=\"text-align: right;\">\n",
              "      <th></th>\n",
              "      <th>0</th>\n",
              "      <th>1</th>\n",
              "    </tr>\n",
              "  </thead>\n",
              "  <tbody>\n",
              "    <tr>\n",
              "      <th>0</th>\n",
              "      <td>neg</td>\n",
              "      <td>اعترف ان بتس كانو شوي شوي يجيبو راسي لكن اليوم...</td>\n",
              "    </tr>\n",
              "    <tr>\n",
              "      <th>1</th>\n",
              "      <td>neg</td>\n",
              "      <td>توقعت اذا جات داريا بشوفهم كاملين بس لي للحين ...</td>\n",
              "    </tr>\n",
              "    <tr>\n",
              "      <th>2</th>\n",
              "      <td>neg</td>\n",
              "      <td>#الاهلي_الهلال اكتب توقعك لنتيجة لقاء الهلال و...</td>\n",
              "    </tr>\n",
              "    <tr>\n",
              "      <th>3</th>\n",
              "      <td>neg</td>\n",
              "      <td>نعمة المضادات الحيوية . تضع قطرة💧مضاد بنسلين ع...</td>\n",
              "    </tr>\n",
              "    <tr>\n",
              "      <th>4</th>\n",
              "      <td>neg</td>\n",
              "      <td>الدودو جايه تكمل علي 💔</td>\n",
              "    </tr>\n",
              "  </tbody>\n",
              "</table>\n",
              "</div>\n",
              "      <button class=\"colab-df-convert\" onclick=\"convertToInteractive('df-a0039bfe-7d51-4112-bffa-46e28428f723')\"\n",
              "              title=\"Convert this dataframe to an interactive table.\"\n",
              "              style=\"display:none;\">\n",
              "        \n",
              "  <svg xmlns=\"http://www.w3.org/2000/svg\" height=\"24px\"viewBox=\"0 0 24 24\"\n",
              "       width=\"24px\">\n",
              "    <path d=\"M0 0h24v24H0V0z\" fill=\"none\"/>\n",
              "    <path d=\"M18.56 5.44l.94 2.06.94-2.06 2.06-.94-2.06-.94-.94-2.06-.94 2.06-2.06.94zm-11 1L8.5 8.5l.94-2.06 2.06-.94-2.06-.94L8.5 2.5l-.94 2.06-2.06.94zm10 10l.94 2.06.94-2.06 2.06-.94-2.06-.94-.94-2.06-.94 2.06-2.06.94z\"/><path d=\"M17.41 7.96l-1.37-1.37c-.4-.4-.92-.59-1.43-.59-.52 0-1.04.2-1.43.59L10.3 9.45l-7.72 7.72c-.78.78-.78 2.05 0 2.83L4 21.41c.39.39.9.59 1.41.59.51 0 1.02-.2 1.41-.59l7.78-7.78 2.81-2.81c.8-.78.8-2.07 0-2.86zM5.41 20L4 18.59l7.72-7.72 1.47 1.35L5.41 20z\"/>\n",
              "  </svg>\n",
              "      </button>\n",
              "      \n",
              "  <style>\n",
              "    .colab-df-container {\n",
              "      display:flex;\n",
              "      flex-wrap:wrap;\n",
              "      gap: 12px;\n",
              "    }\n",
              "\n",
              "    .colab-df-convert {\n",
              "      background-color: #E8F0FE;\n",
              "      border: none;\n",
              "      border-radius: 50%;\n",
              "      cursor: pointer;\n",
              "      display: none;\n",
              "      fill: #1967D2;\n",
              "      height: 32px;\n",
              "      padding: 0 0 0 0;\n",
              "      width: 32px;\n",
              "    }\n",
              "\n",
              "    .colab-df-convert:hover {\n",
              "      background-color: #E2EBFA;\n",
              "      box-shadow: 0px 1px 2px rgba(60, 64, 67, 0.3), 0px 1px 3px 1px rgba(60, 64, 67, 0.15);\n",
              "      fill: #174EA6;\n",
              "    }\n",
              "\n",
              "    [theme=dark] .colab-df-convert {\n",
              "      background-color: #3B4455;\n",
              "      fill: #D2E3FC;\n",
              "    }\n",
              "\n",
              "    [theme=dark] .colab-df-convert:hover {\n",
              "      background-color: #434B5C;\n",
              "      box-shadow: 0px 1px 3px 1px rgba(0, 0, 0, 0.15);\n",
              "      filter: drop-shadow(0px 1px 2px rgba(0, 0, 0, 0.3));\n",
              "      fill: #FFFFFF;\n",
              "    }\n",
              "  </style>\n",
              "\n",
              "      <script>\n",
              "        const buttonEl =\n",
              "          document.querySelector('#df-a0039bfe-7d51-4112-bffa-46e28428f723 button.colab-df-convert');\n",
              "        buttonEl.style.display =\n",
              "          google.colab.kernel.accessAllowed ? 'block' : 'none';\n",
              "\n",
              "        async function convertToInteractive(key) {\n",
              "          const element = document.querySelector('#df-a0039bfe-7d51-4112-bffa-46e28428f723');\n",
              "          const dataTable =\n",
              "            await google.colab.kernel.invokeFunction('convertToInteractive',\n",
              "                                                     [key], {});\n",
              "          if (!dataTable) return;\n",
              "\n",
              "          const docLinkHtml = 'Like what you see? Visit the ' +\n",
              "            '<a target=\"_blank\" href=https://colab.research.google.com/notebooks/data_table.ipynb>data table notebook</a>'\n",
              "            + ' to learn more about interactive tables.';\n",
              "          element.innerHTML = '';\n",
              "          dataTable['output_type'] = 'display_data';\n",
              "          await google.colab.output.renderOutput(dataTable, element);\n",
              "          const docLink = document.createElement('div');\n",
              "          docLink.innerHTML = docLinkHtml;\n",
              "          element.appendChild(docLink);\n",
              "        }\n",
              "      </script>\n",
              "    </div>\n",
              "  </div>\n",
              "  "
            ]
          },
          "metadata": {},
          "execution_count": 156
        }
      ],
      "source": [
        "test_df = pd.concat([test_neg,test_pos], ignore_index=True)\n",
        "test_df.head()\n",
        "\n",
        "train_df = pd.concat([train_neg, train_pos], ignore_index=True)\n",
        "train_df.head()"
      ]
    },
    {
      "cell_type": "code",
      "execution_count": 157,
      "id": "164873b1",
      "metadata": {
        "id": "164873b1"
      },
      "outputs": [],
      "source": [
        "test_df[0][test_df[0] == 'neg'] = 0\n",
        "test_df[0][test_df[0] == 'pos'] = 1\n",
        "\n",
        "train_df[0][train_df[0] == 'neg'] = 0\n",
        "train_df[0][train_df[0] == 'pos'] = 1"
      ]
    },
    {
      "cell_type": "code",
      "execution_count": 158,
      "id": "eb975367",
      "metadata": {
        "colab": {
          "base_uri": "https://localhost:8080/"
        },
        "id": "eb975367",
        "outputId": "a5ba39bb-dd79-4478-f291-fcb34c8b66b6"
      },
      "outputs": [
        {
          "output_type": "stream",
          "name": "stdout",
          "text": [
            "<class 'pandas.core.frame.DataFrame'>\n",
            "RangeIndex: 45275 entries, 0 to 45274\n",
            "Data columns (total 2 columns):\n",
            " #   Column  Non-Null Count  Dtype \n",
            "---  ------  --------------  ----- \n",
            " 0   0       45275 non-null  bool  \n",
            " 1   1       45275 non-null  object\n",
            "dtypes: bool(1), object(1)\n",
            "memory usage: 398.0+ KB\n"
          ]
        }
      ],
      "source": [
        "types_dict = { 0: bool}\n",
        "test_df = test_df.astype(types_dict)\n",
        "train_df = train_df.astype(types_dict)\n",
        "\n",
        "train_df.info()"
      ]
    },
    {
      "cell_type": "code",
      "execution_count": 159,
      "id": "0f5e0b9e",
      "metadata": {
        "id": "0f5e0b9e"
      },
      "outputs": [],
      "source": [
        "train_df.columns = ['feedback', 'review']\n",
        "test_df.columns = ['feedback', 'review']"
      ]
    },
    {
      "cell_type": "code",
      "execution_count": 160,
      "id": "7b73c5b3",
      "metadata": {
        "colab": {
          "base_uri": "https://localhost:8080/"
        },
        "id": "7b73c5b3",
        "outputId": "207e3d44-2932-4b6a-a239-163eb0a6aa96"
      },
      "outputs": [
        {
          "output_type": "stream",
          "name": "stdout",
          "text": [
            "(45275, 2) (0, 0)\n"
          ]
        },
        {
          "output_type": "execute_result",
          "data": {
            "text/plain": [
              "((9055, 2), (45275, 2))"
            ]
          },
          "metadata": {},
          "execution_count": 160
        }
      ],
      "source": [
        "train_df = shuffle(train_df)\n",
        "test_df = shuffle(test_df)\n",
        "\n",
        "valid_df = pd.DataFrame()\n",
        "print(train_df.shape, valid_df.shape)\n",
        "_, valid_df['review'], _, valid_df['feedback'] = train_test_split(train_df['review'],train_df['feedback'],test_size=0.2,random_state=42)\n",
        "\n",
        "\n",
        "valid_df.shape, train_df.shape\n"
      ]
    },
    {
      "cell_type": "code",
      "execution_count": 161,
      "id": "4f2387e7",
      "metadata": {
        "colab": {
          "base_uri": "https://localhost:8080/"
        },
        "id": "4f2387e7",
        "outputId": "4f4c1447-a860-434e-c556-813546543ba7"
      },
      "outputs": [
        {
          "output_type": "stream",
          "name": "stdout",
          "text": [
            "True     22761\n",
            "False    22514\n",
            "Name: feedback, dtype: int64\n",
            "False    5768\n",
            "True     5752\n",
            "Name: feedback, dtype: int64\n"
          ]
        }
      ],
      "source": [
        "print(train_df['feedback'].value_counts())\n",
        "print(test_df['feedback'].value_counts())"
      ]
    },
    {
      "cell_type": "code",
      "execution_count": 162,
      "id": "fc0d0fc3",
      "metadata": {
        "colab": {
          "base_uri": "https://localhost:8080/"
        },
        "id": "fc0d0fc3",
        "outputId": "4178527d-a8ea-448d-9a8b-1c55afdbe116"
      },
      "outputs": [
        {
          "output_type": "stream",
          "name": "stdout",
          "text": [
            "16740    لما جيش والد فراي عزفوا \" أمطار كاستيمير \" فجأ...\n",
            "19655                             يالدب هذا رجال مهب بنت 🌚\n",
            "8141     ⠀ ⠀ ⠀ ⠀ كذبت لآقلت خوته تسآوي ملآيين صآحبي ذآ ...\n",
            "42799             اقتنعت ان فزة قلبي ل اسمك مستحيل تتغير 💛\n",
            "148      ٲليس من العيب ان تحفظ كل الأغاني .. وتكرر نفس ...\n",
            "11687                                   سمعا و طاعة سيدي ✋\n",
            "16355     يارب احس بذا الشعور قريب ويكون تعبي من الوظيفه 😔\n",
            "7485     تلاتين سنة بترقص .. الليلة رقصتنا أنا ببكي 😭 د...\n",
            "4339     بس أنا خلاص أكره أسوي شيء ولا صرت بأسوي شيء أح...\n",
            "20391    مع بدء العد التنازلي ل #رمضان، يجب أن نتفطن لل...\n",
            "Name: review, dtype: object\n"
          ]
        }
      ],
      "source": [
        "print(valid_df['review'].head(10))"
      ]
    },
    {
      "cell_type": "code",
      "execution_count": 163,
      "id": "1a29482e",
      "metadata": {
        "id": "1a29482e"
      },
      "outputs": [],
      "source": [
        "xg_ft = ml_model('xgboost',vectorizer='fasttext')\n",
        "rfc_ft = ml_model('rfc', vectorizer='fasttext')\n",
        "rfc_tf = ml_model('rfc', vectorizer='tfidf')\n",
        "svm_tf = ml_model('svm',vectorizer='tfidf')"
      ]
    },
    {
      "cell_type": "code",
      "execution_count": 164,
      "id": "cb442d00",
      "metadata": {
        "colab": {
          "base_uri": "https://localhost:8080/"
        },
        "id": "cb442d00",
        "outputId": "38cb4af0-980d-4f03-9d8a-0d866e19dad5"
      },
      "outputs": [
        {
          "output_type": "stream",
          "name": "stdout",
          "text": [
            "['صنوف الأنام بالتعاشر تعرف أمعدن أصيل شخصها أم مزيف فكم من جميل أبهر الناس حسنه وأفعاله…', '#احباب_هاني_للدعم ارتفع اوراق اشجار الساعه :00am صباحا تم تجديد الرصيد لكل الأعضاء كالتالي خسارة نقطة السهم للاسفل السهم للاسفل 🔴عدد تغريدات بدون تاق باليوم…', 'طبعا حنا ما شي حلنا متأمل', 'حلمت ان الاتحاد فاز على النصر - المرهق', 'تمنيت ان اعيش كما تريد نفسي ولكن عاشت نفسي كما يريد زماني تنهد', 'الى جهنم ي بيريز ، تسيف حالنا تسذا نحلل يحيى الشهري والمولد ، كان الحين نخطط ع يوم الثلاثاء بالابطال قلب مجروح', 'الاختبار بكرا و لا فتحت الكتاب و بطني يغلي غلي و الله اخاف اروح مستشفى و يروح اليوم كله هناك مرتبك', 'ليست كل محاولات العبور تعني التجاوز .. قلب مجروح', '#Tellnoym توني اتوقع ,ليه ؟ :)', 'فرش لزميلته السرير ورد وضحك عليها ونكها: دياثه مكوة كس زغب ديوث انتصار إبريل :18:28 صباحا']\n"
          ]
        },
        {
          "output_type": "stream",
          "name": "stderr",
          "text": [
            "WARNING:gensim.models.word2vec:Each 'sentences' item should be a list of words (usually unicode strings). First item here is instead plain <class 'str'>.\n"
          ]
        },
        {
          "output_type": "stream",
          "name": "stdout",
          "text": [
            "['صنوف الانام بالتعاشر تعرف امعدن اصيل شخصها ام مزيف جميل ابهر الناس حسنه وافعاله…', '# احباب_هاني_للدعم ارتفع اوراق اشجار الساعه :00am صباحا تم تجديد الرصيد الاعضاء كالتالي خساره نقطه السهم للاسفل السهم للاسفل عدد تغريدات تاق باليوم…', 'طبعا حنا شي حلنا متامل', 'حلمت ان الاتحاد فاز النصر - المرهق', 'تمنيت ان اعيش تريد عاشت يريد تنهد', 'الي جهنم بيريز ، تسيف حالنا تسذا نحلل يحيي الشهري والمولد ، الحين نخطط يوم الثلاثاء بالابطال قلب مجروح', 'الاختبار بكرا الكتاب بطني يغلي غلي الله اخاف اروح مستشفي يروح اليوم مرتبك', 'محاولات العبور تعني التجاوز .. قلب مجروح', '# Tellnoym توني اتوقع , ليه ؟ : )', 'فرش لزميلته السرير ورد وضحك ونكها : دياثه مكوه كس زغب ديوث انتصار ابريل :18:28 صباحا']\n"
          ]
        },
        {
          "output_type": "stream",
          "name": "stderr",
          "text": [
            "/usr/local/lib/python3.7/dist-packages/ipykernel_launcher.py:217: DeprecationWarning: Call to deprecated `__getitem__` (Method will be removed in 4.0.0, use self.wv.__getitem__() instead).\n"
          ]
        },
        {
          "output_type": "stream",
          "name": "stdout",
          "text": [
            "['صنوف الأنام بالتعاشر تعرف أمعدن أصيل شخصها أم مزيف فكم من جميل أبهر الناس حسنه وأفعاله…', '#احباب_هاني_للدعم ارتفع اوراق اشجار الساعه :00am صباحا تم تجديد الرصيد لكل الأعضاء كالتالي خسارة نقطة السهم للاسفل السهم للاسفل 🔴عدد تغريدات بدون تاق باليوم…', 'طبعا حنا ما شي حلنا متأمل', 'حلمت ان الاتحاد فاز على النصر - المرهق', 'تمنيت ان اعيش كما تريد نفسي ولكن عاشت نفسي كما يريد زماني تنهد', 'الى جهنم ي بيريز ، تسيف حالنا تسذا نحلل يحيى الشهري والمولد ، كان الحين نخطط ع يوم الثلاثاء بالابطال قلب مجروح', 'الاختبار بكرا و لا فتحت الكتاب و بطني يغلي غلي و الله اخاف اروح مستشفى و يروح اليوم كله هناك مرتبك', 'ليست كل محاولات العبور تعني التجاوز .. قلب مجروح', '#Tellnoym توني اتوقع ,ليه ؟ :)', 'فرش لزميلته السرير ورد وضحك عليها ونكها: دياثه مكوة كس زغب ديوث انتصار إبريل :18:28 صباحا']\n"
          ]
        },
        {
          "output_type": "stream",
          "name": "stderr",
          "text": [
            "WARNING:gensim.models.word2vec:Each 'sentences' item should be a list of words (usually unicode strings). First item here is instead plain <class 'str'>.\n"
          ]
        },
        {
          "output_type": "stream",
          "name": "stdout",
          "text": [
            "['صنوف الانام بالتعاشر تعرف امعدن اصيل شخصها ام مزيف جميل ابهر الناس حسنه وافعاله…', '# احباب_هاني_للدعم ارتفع اوراق اشجار الساعه :00am صباحا تم تجديد الرصيد الاعضاء كالتالي خساره نقطه السهم للاسفل السهم للاسفل عدد تغريدات تاق باليوم…', 'طبعا حنا شي حلنا متامل', 'حلمت ان الاتحاد فاز النصر - المرهق', 'تمنيت ان اعيش تريد عاشت يريد تنهد', 'الي جهنم بيريز ، تسيف حالنا تسذا نحلل يحيي الشهري والمولد ، الحين نخطط يوم الثلاثاء بالابطال قلب مجروح', 'الاختبار بكرا الكتاب بطني يغلي غلي الله اخاف اروح مستشفي يروح اليوم مرتبك', 'محاولات العبور تعني التجاوز .. قلب مجروح', '# Tellnoym توني اتوقع , ليه ؟ : )', 'فرش لزميلته السرير ورد وضحك ونكها : دياثه مكوه كس زغب ديوث انتصار ابريل :18:28 صباحا']\n",
            "['صنوف الأنام بالتعاشر تعرف أمعدن أصيل شخصها أم مزيف فكم من جميل أبهر الناس حسنه وأفعاله…', '#احباب_هاني_للدعم ارتفع اوراق اشجار الساعه :00am صباحا تم تجديد الرصيد لكل الأعضاء كالتالي خسارة نقطة السهم للاسفل السهم للاسفل 🔴عدد تغريدات بدون تاق باليوم…', 'طبعا حنا ما شي حلنا متأمل', 'حلمت ان الاتحاد فاز على النصر - المرهق', 'تمنيت ان اعيش كما تريد نفسي ولكن عاشت نفسي كما يريد زماني تنهد', 'الى جهنم ي بيريز ، تسيف حالنا تسذا نحلل يحيى الشهري والمولد ، كان الحين نخطط ع يوم الثلاثاء بالابطال قلب مجروح', 'الاختبار بكرا و لا فتحت الكتاب و بطني يغلي غلي و الله اخاف اروح مستشفى و يروح اليوم كله هناك مرتبك', 'ليست كل محاولات العبور تعني التجاوز .. قلب مجروح', '#Tellnoym توني اتوقع ,ليه ؟ :)', 'فرش لزميلته السرير ورد وضحك عليها ونكها: دياثه مكوة كس زغب ديوث انتصار إبريل :18:28 صباحا']\n",
            "['صنوف الانام بالتعاشر تعرف امعدن اصيل شخصها ام مزيف جميل ابهر الناس حسنه وافعاله…', '# احباب_هاني_للدعم ارتفع اوراق اشجار الساعه :00am صباحا تم تجديد الرصيد الاعضاء كالتالي خساره نقطه السهم للاسفل السهم للاسفل عدد تغريدات تاق باليوم…', 'طبعا حنا شي حلنا متامل', 'حلمت ان الاتحاد فاز النصر - المرهق', 'تمنيت ان اعيش تريد عاشت يريد تنهد', 'الي جهنم بيريز ، تسيف حالنا تسذا نحلل يحيي الشهري والمولد ، الحين نخطط يوم الثلاثاء بالابطال قلب مجروح', 'الاختبار بكرا الكتاب بطني يغلي غلي الله اخاف اروح مستشفي يروح اليوم مرتبك', 'محاولات العبور تعني التجاوز .. قلب مجروح', '# Tellnoym توني اتوقع , ليه ؟ : )', 'فرش لزميلته السرير ورد وضحك ونكها : دياثه مكوه كس زغب ديوث انتصار ابريل :18:28 صباحا']\n",
            "['صنوف الأنام بالتعاشر تعرف أمعدن أصيل شخصها أم مزيف فكم من جميل أبهر الناس حسنه وأفعاله…', '#احباب_هاني_للدعم ارتفع اوراق اشجار الساعه :00am صباحا تم تجديد الرصيد لكل الأعضاء كالتالي خسارة نقطة السهم للاسفل السهم للاسفل 🔴عدد تغريدات بدون تاق باليوم…', 'طبعا حنا ما شي حلنا متأمل', 'حلمت ان الاتحاد فاز على النصر - المرهق', 'تمنيت ان اعيش كما تريد نفسي ولكن عاشت نفسي كما يريد زماني تنهد', 'الى جهنم ي بيريز ، تسيف حالنا تسذا نحلل يحيى الشهري والمولد ، كان الحين نخطط ع يوم الثلاثاء بالابطال قلب مجروح', 'الاختبار بكرا و لا فتحت الكتاب و بطني يغلي غلي و الله اخاف اروح مستشفى و يروح اليوم كله هناك مرتبك', 'ليست كل محاولات العبور تعني التجاوز .. قلب مجروح', '#Tellnoym توني اتوقع ,ليه ؟ :)', 'فرش لزميلته السرير ورد وضحك عليها ونكها: دياثه مكوة كس زغب ديوث انتصار إبريل :18:28 صباحا']\n",
            "['صنوف الانام بالتعاشر تعرف امعدن اصيل شخصها ام مزيف جميل ابهر الناس حسنه وافعاله…', '# احباب_هاني_للدعم ارتفع اوراق اشجار الساعه :00am صباحا تم تجديد الرصيد الاعضاء كالتالي خساره نقطه السهم للاسفل السهم للاسفل عدد تغريدات تاق باليوم…', 'طبعا حنا شي حلنا متامل', 'حلمت ان الاتحاد فاز النصر - المرهق', 'تمنيت ان اعيش تريد عاشت يريد تنهد', 'الي جهنم بيريز ، تسيف حالنا تسذا نحلل يحيي الشهري والمولد ، الحين نخطط يوم الثلاثاء بالابطال قلب مجروح', 'الاختبار بكرا الكتاب بطني يغلي غلي الله اخاف اروح مستشفي يروح اليوم مرتبك', 'محاولات العبور تعني التجاوز .. قلب مجروح', '# Tellnoym توني اتوقع , ليه ؟ : )', 'فرش لزميلته السرير ورد وضحك ونكها : دياثه مكوه كس زغب ديوث انتصار ابريل :18:28 صباحا']\n"
          ]
        }
      ],
      "source": [
        "xg_ft.train(train_df['review'], train_df['feedback'])\n",
        "rfc_ft.train(train_df['review'], train_df['feedback'])\n",
        "rfc_tf.train(train_df['review'], train_df['feedback'])\n",
        "svm_tf.train(train_df['review'], train_df['feedback'])"
      ]
    },
    {
      "cell_type": "code",
      "execution_count": 168,
      "id": "f460244e",
      "metadata": {
        "id": "f460244e"
      },
      "outputs": [],
      "source": [
        "# xg_ft.score(test_df['review'],test_df['feedback'])\n",
        "# rfc_ft.score(test_df['review'],test_df['feedback'])\n",
        "# rfc_tf.score(test_df['review'],test_df['feedback'])\n",
        "# svm_tf.score(test_df['review'],test_df['feedback'])\n",
        "\n",
        "# xg_ft.draw_roc(test_df['review'],test_df['feedback'])\n",
        "# rfc_ft.draw_roc(test_df['review'],test_df['feedback'])\n",
        "# rfc_tf.draw_roc(test_df['review'],test_df['feedback'])\n",
        "# svm_tf.draw_roc(test_df['review'],test_df['feedback'])"
      ]
    },
    {
      "cell_type": "code",
      "source": [
        "ml_model.draw_roc_mult(test_df['review'],test_df['feedback'], [(xg_ft,'xg_ft'), (rfc_ft,'rfc_ft'), (rfc_tf,'rfc_tf'), (svm_tf,'svm_tf')])"
      ],
      "metadata": {
        "colab": {
          "base_uri": "https://localhost:8080/",
          "height": 651
        },
        "id": "OluvpCioEkaS",
        "outputId": "6c94a88a-1228-42b4-c47e-7ef8c0df0547"
      },
      "id": "OluvpCioEkaS",
      "execution_count": 167,
      "outputs": [
        {
          "output_type": "stream",
          "name": "stdout",
          "text": [
            "['من قرأ سورة , الإخلاص عشرة مرات بنى الله له بيتا في الجنه زهرة الكرز #المقابيل_للدعم #مملكة_خالد_الهيلا #اسطول_زعماء_تويتر…', 'بس اناا قلب مجروح', 'جميل أن يظن الناس بك خيرا وأجمل أن تكون خيرا مما يطنون صباحكم سعيد دوار الشمس', 'حس بجمال النعم الصغيرة وافرح بأشيائك البسيطة وقل الحمدلله حمامة السلام #صباح_الخير احمر خدود #رتويت_ابوحضرم', 'اشكركم ولنستمر لتكون مدن المملكه باجمل مايكون باقة أزهار', 'يقول الليل ليس لي ذنب بما يحدث لكم في النهار وتحدثوني به ..ولكن بصمت وعلى وسادة قلب مجروح #وش_يقول_الليل', 'صباح السبت وجه مبتسم قليلا', 'تلاتين سنة بترقص .. الليلة رقصتنا أنا ببكي تنهد دي حلاوة شديدة باخ', 'يعني يمدح اسمك تنهد', '- بتفرق جدا مين سايبك لحد ما تهدى ،، ومين معاك لحد ما تهدى ،، ومين اللي بيهديك ،، قلب ازرق']\n",
            "['قرا سوره , الاخلاص عشره مرات بني الله بيتا الجنه زهره الكرز # المقابيل_للدعم # مملكه_خالد_الهيلا # اسطول_زعماء_تويتر…', 'اناا قلب مجروح', 'جميل ان يظن الناس خيرا واجمل ان تكون خيرا يطنون صباحكم سعيد دوار الشمس', 'حس بجمال النعم الصغيره وافرح باشياءك البسيطه وقل الحمدلله حمامه السلام # صباح_الخير احمر خدود # رتويت_ابوحضرم', 'اشكركم ولنستمر لتكون مدن المملكه باجمل مايكون باقه ازهار', 'يقول الليل ذنب يحدث النهار وتحدثوني .. بصمت وساده قلب مجروح # وش_يقول_الليل', 'السبت وجه مبتسم قليلا', 'تلاتين سنه بترقص .. الليله رقصتنا انا ببكي تنهد دي حلاوه شديده باخ', 'يعني يمدح اسمك تنهد', '- بتفرق مين سايبك لحد تهدي ،، ومين معاك لحد تهدي ،، ومين اللي بيهديك ،، قلب ازرق']\n"
          ]
        },
        {
          "output_type": "stream",
          "name": "stderr",
          "text": [
            "/usr/local/lib/python3.7/dist-packages/ipykernel_launcher.py:217: DeprecationWarning: Call to deprecated `__getitem__` (Method will be removed in 4.0.0, use self.wv.__getitem__() instead).\n"
          ]
        },
        {
          "output_type": "stream",
          "name": "stdout",
          "text": [
            "['من قرأ سورة , الإخلاص عشرة مرات بنى الله له بيتا في الجنه زهرة الكرز #المقابيل_للدعم #مملكة_خالد_الهيلا #اسطول_زعماء_تويتر…', 'بس اناا قلب مجروح', 'جميل أن يظن الناس بك خيرا وأجمل أن تكون خيرا مما يطنون صباحكم سعيد دوار الشمس', 'حس بجمال النعم الصغيرة وافرح بأشيائك البسيطة وقل الحمدلله حمامة السلام #صباح_الخير احمر خدود #رتويت_ابوحضرم', 'اشكركم ولنستمر لتكون مدن المملكه باجمل مايكون باقة أزهار', 'يقول الليل ليس لي ذنب بما يحدث لكم في النهار وتحدثوني به ..ولكن بصمت وعلى وسادة قلب مجروح #وش_يقول_الليل', 'صباح السبت وجه مبتسم قليلا', 'تلاتين سنة بترقص .. الليلة رقصتنا أنا ببكي تنهد دي حلاوة شديدة باخ', 'يعني يمدح اسمك تنهد', '- بتفرق جدا مين سايبك لحد ما تهدى ،، ومين معاك لحد ما تهدى ،، ومين اللي بيهديك ،، قلب ازرق']\n",
            "['قرا سوره , الاخلاص عشره مرات بني الله بيتا الجنه زهره الكرز # المقابيل_للدعم # مملكه_خالد_الهيلا # اسطول_زعماء_تويتر…', 'اناا قلب مجروح', 'جميل ان يظن الناس خيرا واجمل ان تكون خيرا يطنون صباحكم سعيد دوار الشمس', 'حس بجمال النعم الصغيره وافرح باشياءك البسيطه وقل الحمدلله حمامه السلام # صباح_الخير احمر خدود # رتويت_ابوحضرم', 'اشكركم ولنستمر لتكون مدن المملكه باجمل مايكون باقه ازهار', 'يقول الليل ذنب يحدث النهار وتحدثوني .. بصمت وساده قلب مجروح # وش_يقول_الليل', 'السبت وجه مبتسم قليلا', 'تلاتين سنه بترقص .. الليله رقصتنا انا ببكي تنهد دي حلاوه شديده باخ', 'يعني يمدح اسمك تنهد', '- بتفرق مين سايبك لحد تهدي ،، ومين معاك لحد تهدي ،، ومين اللي بيهديك ،، قلب ازرق']\n"
          ]
        },
        {
          "output_type": "stream",
          "name": "stderr",
          "text": [
            "/usr/local/lib/python3.7/dist-packages/ipykernel_launcher.py:217: DeprecationWarning: Call to deprecated `__getitem__` (Method will be removed in 4.0.0, use self.wv.__getitem__() instead).\n"
          ]
        },
        {
          "output_type": "stream",
          "name": "stdout",
          "text": [
            "['من قرأ سورة , الإخلاص عشرة مرات بنى الله له بيتا في الجنه زهرة الكرز #المقابيل_للدعم #مملكة_خالد_الهيلا #اسطول_زعماء_تويتر…', 'بس اناا قلب مجروح', 'جميل أن يظن الناس بك خيرا وأجمل أن تكون خيرا مما يطنون صباحكم سعيد دوار الشمس', 'حس بجمال النعم الصغيرة وافرح بأشيائك البسيطة وقل الحمدلله حمامة السلام #صباح_الخير احمر خدود #رتويت_ابوحضرم', 'اشكركم ولنستمر لتكون مدن المملكه باجمل مايكون باقة أزهار', 'يقول الليل ليس لي ذنب بما يحدث لكم في النهار وتحدثوني به ..ولكن بصمت وعلى وسادة قلب مجروح #وش_يقول_الليل', 'صباح السبت وجه مبتسم قليلا', 'تلاتين سنة بترقص .. الليلة رقصتنا أنا ببكي تنهد دي حلاوة شديدة باخ', 'يعني يمدح اسمك تنهد', '- بتفرق جدا مين سايبك لحد ما تهدى ،، ومين معاك لحد ما تهدى ،، ومين اللي بيهديك ،، قلب ازرق']\n",
            "['قرا سوره , الاخلاص عشره مرات بني الله بيتا الجنه زهره الكرز # المقابيل_للدعم # مملكه_خالد_الهيلا # اسطول_زعماء_تويتر…', 'اناا قلب مجروح', 'جميل ان يظن الناس خيرا واجمل ان تكون خيرا يطنون صباحكم سعيد دوار الشمس', 'حس بجمال النعم الصغيره وافرح باشياءك البسيطه وقل الحمدلله حمامه السلام # صباح_الخير احمر خدود # رتويت_ابوحضرم', 'اشكركم ولنستمر لتكون مدن المملكه باجمل مايكون باقه ازهار', 'يقول الليل ذنب يحدث النهار وتحدثوني .. بصمت وساده قلب مجروح # وش_يقول_الليل', 'السبت وجه مبتسم قليلا', 'تلاتين سنه بترقص .. الليله رقصتنا انا ببكي تنهد دي حلاوه شديده باخ', 'يعني يمدح اسمك تنهد', '- بتفرق مين سايبك لحد تهدي ،، ومين معاك لحد تهدي ،، ومين اللي بيهديك ،، قلب ازرق']\n",
            "['من قرأ سورة , الإخلاص عشرة مرات بنى الله له بيتا في الجنه زهرة الكرز #المقابيل_للدعم #مملكة_خالد_الهيلا #اسطول_زعماء_تويتر…', 'بس اناا قلب مجروح', 'جميل أن يظن الناس بك خيرا وأجمل أن تكون خيرا مما يطنون صباحكم سعيد دوار الشمس', 'حس بجمال النعم الصغيرة وافرح بأشيائك البسيطة وقل الحمدلله حمامة السلام #صباح_الخير احمر خدود #رتويت_ابوحضرم', 'اشكركم ولنستمر لتكون مدن المملكه باجمل مايكون باقة أزهار', 'يقول الليل ليس لي ذنب بما يحدث لكم في النهار وتحدثوني به ..ولكن بصمت وعلى وسادة قلب مجروح #وش_يقول_الليل', 'صباح السبت وجه مبتسم قليلا', 'تلاتين سنة بترقص .. الليلة رقصتنا أنا ببكي تنهد دي حلاوة شديدة باخ', 'يعني يمدح اسمك تنهد', '- بتفرق جدا مين سايبك لحد ما تهدى ،، ومين معاك لحد ما تهدى ،، ومين اللي بيهديك ،، قلب ازرق']\n",
            "['قرا سوره , الاخلاص عشره مرات بني الله بيتا الجنه زهره الكرز # المقابيل_للدعم # مملكه_خالد_الهيلا # اسطول_زعماء_تويتر…', 'اناا قلب مجروح', 'جميل ان يظن الناس خيرا واجمل ان تكون خيرا يطنون صباحكم سعيد دوار الشمس', 'حس بجمال النعم الصغيره وافرح باشياءك البسيطه وقل الحمدلله حمامه السلام # صباح_الخير احمر خدود # رتويت_ابوحضرم', 'اشكركم ولنستمر لتكون مدن المملكه باجمل مايكون باقه ازهار', 'يقول الليل ذنب يحدث النهار وتحدثوني .. بصمت وساده قلب مجروح # وش_يقول_الليل', 'السبت وجه مبتسم قليلا', 'تلاتين سنه بترقص .. الليله رقصتنا انا ببكي تنهد دي حلاوه شديده باخ', 'يعني يمدح اسمك تنهد', '- بتفرق مين سايبك لحد تهدي ،، ومين معاك لحد تهدي ،، ومين اللي بيهديك ،، قلب ازرق']\n"
          ]
        },
        {
          "output_type": "display_data",
          "data": {
            "text/plain": [
              "<Figure size 500x500 with 1 Axes>"
            ],
            "image/png": "[encoded data removed]"
          },
          "metadata": {
            "needs_background": "light"
          }
        }
      ]
    },
    {
      "cell_type": "code",
      "source": [],
      "metadata": {
        "id": "exGSppseJa2Y"
      },
      "id": "exGSppseJa2Y",
      "execution_count": null,
      "outputs": []
    }
  ],
  "metadata": {
    "kernelspec": {
      "display_name": "Python 3 (ipykernel)",
      "language": "python",
      "name": "python3"
    },
    "language_info": {
      "codemirror_mode": {
        "name": "ipython",
        "version": 3
      },
      "file_extension": ".py",
      "mimetype": "text/x-python",
      "name": "python",
      "nbconvert_exporter": "python",
      "pygments_lexer": "ipython3",
      "version": "3.10.5"
    },
    "colab": {
      "provenance": [],
      "collapsed_sections": []
    },
    "accelerator": "GPU"
  },
  "nbformat": 4,
  "nbformat_minor": 5
}